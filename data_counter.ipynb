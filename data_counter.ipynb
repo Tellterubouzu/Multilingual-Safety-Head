{
 "cells": [
  {
   "cell_type": "code",
   "execution_count": null,
   "metadata": {},
   "outputs": [],
   "source": [
    "import os\n",
    "import pandas as pd\n",
    "\n",
    "# ディレクトリのパスを設定\n",
    "base_dir = \"./Multilingual_safety_benchmark\"\n",
    "\n",
    "# 合計件数を初期化\n",
    "total_rows = 0\n",
    "\n",
    "# サブディレクトリを順に処理\n",
    "for subdir, _, files in os.walk(base_dir):\n",
    "    for file in files:\n",
    "        if file.endswith('.csv'):\n",
    "            file_path = os.path.join(subdir, file)\n",
    "            print(file_path)\n",
    "            try:\n",
    "                # CSVファイルを読み込む\n",
    "                df = pd.read_csv(file_path)\n",
    "                # ファイルの行数をカウント\n",
    "                row_count = len(df)\n",
    "                total_rows += row_count\n",
    "                print(f\"Processed {file_path}: {row_count} rows\")\n",
    "            except Exception as e:\n",
    "                print(f\"Error reading {file_path}: {e}\")\n",
    "\n",
    "# 合計件数を出力\n",
    "print(f\"Total rows across all CSV files: {total_rows}\")\n"
   ]
  }
 ],
 "metadata": {
  "kernelspec": {
   "display_name": "env",
   "language": "python",
   "name": "python3"
  },
  "language_info": {
   "name": "python",
   "version": "3.11.9"
  }
 },
 "nbformat": 4,
 "nbformat_minor": 2
}

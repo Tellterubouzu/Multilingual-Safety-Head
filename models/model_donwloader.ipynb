{
 "cells": [
  {
   "cell_type": "code",
   "execution_count": null,
   "metadata": {},
   "outputs": [],
   "source": [
    "from dotenv import load_dotenv\n",
    "import os \n",
    "from transformers import snapshot_download\n",
    "load_dotenv()\n",
    "hf_token = os.getenv(\"HUGGINGFACE_TOKEN\")\n",
    "\n",
    "repo_list = [\n",
    "    \"meta-llama/Llama-2-7b-chat-hf\",\n",
    "    \"meta-llama/Llama-3.2-3B-Instruct\"\n",
    "]\n",
    "\n",
    "for repo in repo_list:\n",
    "    if(\"/\" in repo):\n",
    "        model_name = repo.split(\"/\")[-1]\n",
    "    snapshot_download(repo_id = repo,local_dir = f\"./models/{model_name}\")"
   ]
  }
 ],
 "metadata": {
  "kernelspec": {
   "display_name": "env",
   "language": "python",
   "name": "python3"
  },
  "language_info": {
   "name": "python",
   "version": "3.11.9"
  }
 },
 "nbformat": 4,
 "nbformat_minor": 2
}

{
 "cells": [
  {
   "cell_type": "code",
   "execution_count": null,
   "metadata": {},
   "outputs": [],
   "source": [
    "# データ量のカウント\n",
    "import os\n",
    "import pandas as pd\n",
    "base_dir = \"../Multilingual_safety_benchmark\"\n",
    "total_rows = 0\n",
    "for subdir, _, files in os.walk(base_dir):\n",
    "    for file in files:\n",
    "        if file.endswith('.csv'):\n",
    "            file_path = os.path.join(subdir, file)\n",
    "            print(file_path)\n",
    "            try:\n",
    "                df = pd.read_csv(file_path)\n",
    "                row_count = len(df)\n",
    "                total_rows += row_count\n",
    "                print(f\"Processed {file_path}: {row_count} rows\")\n",
    "            except Exception as e:\n",
    "                print(f\"Error reading {file_path}: {e}\")\n",
    "print(f\"Total rows across all CSV files: {total_rows}\")\n"
   ]
  },
  {
   "cell_type": "code",
   "execution_count": 2,
   "metadata": {},
   "outputs": [
    {
     "name": "stdout",
     "output_type": "stream",
     "text": [
      "File was saved to -> dataset_for_sahara\\Multilingual_en_300.csv\n",
      "File was saved to -> dataset_for_sahara\\Multilingual_de_300.csv\n",
      "File was saved to -> dataset_for_sahara\\Multilingual_hi_300.csv\n",
      "File was saved to -> dataset_for_sahara\\Multilingual_ja_300.csv\n",
      "File was saved to -> dataset_for_sahara\\Multilingual_fr_300.csv\n",
      "File was saved to -> dataset_for_sahara\\Multilingual_ru_300.csv\n",
      "File was saved to -> dataset_for_sahara\\Multilingual_sp_300.csv\n",
      "File was saved to -> dataset_for_sahara\\Multilingual_zh_300.csv\n"
     ]
    }
   ],
   "source": [
    "import pandas as pd\n",
    "import os\n",
    "# multilingual safety benchmark　から言語指定して300件抽出して保存\n",
    "def create_balanced_dataset(dataset_dir, language, csv_names, total_samples, output_file):\n",
    "    csv_dir = os.path.join(dataset_dir, language)\n",
    "    samples_per_csv = total_samples // len(csv_names)\n",
    "    remainder = total_samples % len(csv_names)\n",
    "\n",
    "    new_dataset = pd.DataFrame(columns=[\"input\"])\n",
    "\n",
    "    for i, csv_name in enumerate(csv_names):\n",
    "        csv_path = os.path.join(csv_dir, f\"{csv_name}.csv\")\n",
    "\n",
    "        # CSVを読み込む\n",
    "        if os.path.exists(csv_path):\n",
    "            data = pd.read_csv(csv_path)\n",
    "        else:\n",
    "            raise FileNotFoundError(f\"404 ??? {csv_path} not found\")\n",
    "\n",
    "        # input列だけを抽出\n",
    "        if \"input\" not in data.columns:\n",
    "            raise ValueError(f\"The column 'input' does not exist in {csv_path}\")\n",
    "\n",
    "        sample_size = samples_per_csv + (1 if i < remainder else 0)\n",
    "        sampled_data = data.sample(n=sample_size, random_state=42)\n",
    "\n",
    "        # 必要な列だけにする\n",
    "        sampled_data = sampled_data[[\"input\"]]\n",
    "        new_dataset = pd.concat([new_dataset, sampled_data], ignore_index=True)\n",
    "\n",
    "    new_dataset.to_csv(output_file, index=False)\n",
    "    print(f\"File was saved to -> {output_file}\")\n",
    "    \n",
    "\n",
    "# メイン処理\n",
    "dataset_dir = \"Multilingual_safety_benchmark\"\n",
    "csv_name_list = [\"Unsafe_Instruction_Topic\", \"Crimes_And_Illegal_Activities\", \"insult\"]\n",
    "total_sample_count = 300\n",
    "languages = [\"en\", \"de\", \"hi\", \"ja\",\"fr\",\"ru\",\"sp\",\"zh\"]\n",
    "\n",
    "for language in languages:\n",
    "    output_csv = f\"Multilingual_{language}_{total_sample_count}.csv\"\n",
    "    create_balanced_dataset(dataset_dir, language, csv_name_list, total_sample_count, output_csv)\n"
   ]
  },
  {
   "cell_type": "code",
   "execution_count": 4,
   "metadata": {},
   "outputs": [
    {
     "name": "stdout",
     "output_type": "stream",
     "text": [
      "File was saved to -> dataset_for_sahara/Multilingual_de_600.csv\n",
      "File was saved to -> dataset_for_sahara/Multilingual_hi_600.csv\n"
     ]
    }
   ],
   "source": [
    "import pandas as pd\n",
    "import os\n",
    "# マルチリンガルデータの作成\n",
    "def create_balanced_dataset(dataset_dir, language, csv_names, total_samples, output_file):\n",
    "    csv_dir = os.path.join(dataset_dir, language)\n",
    "    samples_per_csv = total_samples // len(csv_names)\n",
    "    remainder = total_samples % len(csv_names)\n",
    "\n",
    "    new_dataset = pd.DataFrame(columns=[\"input\"])\n",
    "\n",
    "    for i, csv_name in enumerate(csv_names):\n",
    "        csv_path = os.path.join(csv_dir, f\"{csv_name}.csv\")\n",
    "\n",
    "        # CSVを読み込む\n",
    "        if os.path.exists(csv_path):\n",
    "            data = pd.read_csv(csv_path)\n",
    "        else:\n",
    "            raise FileNotFoundError(f\"404 ??? {csv_path} not found\")\n",
    "\n",
    "        # input列だけを抽出\n",
    "        if \"input\" not in data.columns:\n",
    "            raise ValueError(f\"The column 'input' does not exist in {csv_path}\")\n",
    "\n",
    "        sample_size = samples_per_csv + (1 if i < remainder else 0)\n",
    "        sampled_data = data.sample(n=sample_size, random_state=42)\n",
    "\n",
    "        # 必要な列だけにする\n",
    "        sampled_data = sampled_data[[\"input\"]]\n",
    "        new_dataset = pd.concat([new_dataset, sampled_data], ignore_index=True)\n",
    "\n",
    "    new_dataset.to_csv(output_file, index=False)\n",
    "    print(f\"File was saved to -> {output_file}\")\n",
    "    \n",
    "\n",
    "# メイン処理\n",
    "dataset_dir = \"/home/tell/devenv/AI_Scientists/Multilingual-Safety-Head/Multilingual_safety_benchmark\"\n",
    "csv_name_list = [\"Unsafe_Instruction_Topic\", \"Crimes_And_Illegal_Activities\", \"Insult\"]\n",
    "total_sample_count = 600\n",
    "languages = [\"de\", \"hi\",]\n",
    "output_dir = \"dataset_for_sahara\"\n",
    "os.makedirs(output_dir, exist_ok=True)\n",
    "\n",
    "for language in languages:\n",
    "    output_csv = f\"Multilingual_{language}_{total_sample_count}.csv\"\n",
    "    output_path = os.path.join(output_dir, output_csv)\n",
    "    create_balanced_dataset(dataset_dir, language, csv_name_list, total_sample_count, output_path)\n"
   ]
  },
  {
   "cell_type": "code",
   "execution_count": 3,
   "metadata": {},
   "outputs": [
    {
     "name": "stdout",
     "output_type": "stream",
     "text": [
      "データセットが 'dataset_for_sahara/squad_dataset.json' に保存されました。\n"
     ]
    }
   ],
   "source": [
    "from datasets import load_dataset\n",
    "import json\n",
    "\n",
    "# squadをロードしてjsonに変換\n",
    "def convert_dataset_to_json(dataset_name=\"squad\", output_file=\"squad_dataset.json\"):\n",
    "    dataset = load_dataset(dataset_name)\n",
    "    dataset_json = {}\n",
    "    for split in dataset.keys():\n",
    "        dataset_json[split] = [\n",
    "            {\n",
    "                \"id\": example[\"id\"],\n",
    "                \"title\": example[\"title\"],\n",
    "                \"context\": example[\"context\"],\n",
    "                \"question\": example[\"question\"],\n",
    "                \"answers\": example[\"answers\"],\n",
    "            }\n",
    "            for example in dataset[split]\n",
    "        ]\n",
    "    with open(output_file, \"w\", encoding=\"utf-8\") as f:\n",
    "        json.dump(dataset_json, f, ensure_ascii=False, indent=4)\n",
    "\n",
    "if __name__ == \"__main__\":\n",
    "    convert_dataset_to_json()"
   ]
  },
  {
   "cell_type": "code",
   "execution_count": null,
   "metadata": {},
   "outputs": [],
   "source": [
    "import json\n",
    "import csv\n",
    "import random\n",
    "# JSON読み込んでcontextとquestionを結合してCSVに保存\n",
    "def json_to_csv_with_input(json_file=\"squad_dataset.json\", output_csv=\"squad_inputs.csv\"):\n",
    "    with open(json_file, \"r\", encoding=\"utf-8\") as f:\n",
    "        dataset = json.load(f)\n",
    "    with open(output_csv, \"w\", encoding=\"utf-8\", newline=\"\") as csvfile:\n",
    "        writer = csv.writer(csvfile)\n",
    "        writer.writerow([\"input\"])\n",
    "        for split, examples in dataset.items():\n",
    "            for example in examples:\n",
    "                context = example.get(\"context\", \"\")\n",
    "                question = example.get(\"question\", \"\")\n",
    "                input_text = context + \" \" + question\n",
    "                writer.writerow([input_text])\n",
    "\n",
    "    print(f\"CSVファイルが '{output_csv}' に保存されました。\")\n",
    "def create_random_sample_csv(input_csv=\"squad_inputs.csv\", output_csv=\"squad300.csv\", sample_size=300):\n",
    "    with open(input_csv, \"r\", encoding=\"utf-8\") as csvfile:\n",
    "        reader = list(csv.reader(csvfile))\n",
    "        header = reader[0]\n",
    "        data = reader[1:]\n",
    "\n",
    "    sample = random.sample(data, min(sample_size, len(data)))\n",
    "    with open(output_csv, \"w\", encoding=\"utf-8\", newline=\"\") as csvfile:\n",
    "        writer = csv.writer(csvfile)\n",
    "        writer.writerow(header)\n",
    "        writer.writerows(sample)\n",
    "\n",
    "    print(f\"ランダムサンプルが '{output_csv}' に保存されました。\")\n",
    "if __name__ == \"__main__\":\n",
    "    json_to_csv_with_input()\n",
    "    create_random_sample_csv()"
   ]
  },
  {
   "cell_type": "code",
   "execution_count": null,
   "metadata": {},
   "outputs": [],
   "source": []
  }
 ],
 "metadata": {
  "kernelspec": {
   "display_name": "env",
   "language": "python",
   "name": "python3"
  },
  "language_info": {
   "codemirror_mode": {
    "name": "ipython",
    "version": 3
   },
   "file_extension": ".py",
   "mimetype": "text/x-python",
   "name": "python",
   "nbconvert_exporter": "python",
   "pygments_lexer": "ipython3",
   "version": "3.11.9"
  }
 },
 "nbformat": 4,
 "nbformat_minor": 2
}

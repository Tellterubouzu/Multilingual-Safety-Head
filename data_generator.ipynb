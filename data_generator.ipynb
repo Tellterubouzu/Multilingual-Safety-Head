{
 "cells": [
  {
   "cell_type": "code",
   "execution_count": null,
   "metadata": {},
   "outputs": [],
   "source": [
    "import os\n",
    "import pandas as pd\n",
    "base_dir = \"./Multilingual_safety_benchmark\"\n",
    "total_rows = 0\n",
    "for subdir, _, files in os.walk(base_dir):\n",
    "    for file in files:\n",
    "        if file.endswith('.csv'):\n",
    "            file_path = os.path.join(subdir, file)\n",
    "            print(file_path)\n",
    "            try:\n",
    "                df = pd.read_csv(file_path)\n",
    "                row_count = len(df)\n",
    "                total_rows += row_count\n",
    "                print(f\"Processed {file_path}: {row_count} rows\")\n",
    "            except Exception as e:\n",
    "                print(f\"Error reading {file_path}: {e}\")\n",
    "print(f\"Total rows across all CSV files: {total_rows}\")\n"
   ]
  },
  {
   "cell_type": "code",
   "execution_count": 3,
   "metadata": {},
   "outputs": [
    {
     "name": "stdout",
     "output_type": "stream",
     "text": [
      "file was saved to ->dataset_for_sahara\\Multilingual_en_300.csv\n",
      "file was saved to ->dataset_for_sahara\\Multilingual_de_300.csv\n",
      "file was saved to ->dataset_for_sahara\\Multilingual_hi_300.csv\n",
      "file was saved to ->dataset_for_sahara\\Multilingual_ja_300.csv\n"
     ]
    }
   ],
   "source": [
    "import pandas as pd\n",
    "import os\n",
    "import random\n",
    "def create_balanced_dataset(dataset_dir,language, csv_names, total_samples, output_file):\n",
    "    csv_dir = os.path.join(dataset_dir,language)\n",
    "    samples_per_csv = total_samples // len(csv_names)\n",
    "    remainder = total_samples % len(csv_names)\n",
    "    \n",
    "    new_dataset = pd.DataFrame()\n",
    "    \n",
    "    for i, csv_name in enumerate(csv_names):\n",
    "        csv_path = os.path.join(csv_dir, f\"{csv_name}.csv\")\n",
    "        \n",
    "        # CSVを読み込む\n",
    "        if os.path.exists(csv_path):\n",
    "            data = pd.read_csv(csv_path)\n",
    "        else:\n",
    "            raise FileNotFoundError(f\"404 ??? {csv_path}not found\")\n",
    "        sample_size = samples_per_csv + (1 if i < remainder else 0)\n",
    "        sampled_data = data.sample(n=sample_size, random_state=42)\n",
    "        new_dataset = pd.concat([new_dataset, sampled_data], ignore_index=True)\n",
    "    new_dataset.to_csv(output_file, index=False)\n",
    "    print(f\"file was saved to ->{output_file}\")\n",
    "\n",
    "dataset_dir = \"Multilingual_safety_benchmark\"\n",
    "csv_name_list = [\"Unsafe_Instruction_Topic\", \"Crimes_And_Illegal_Activities\", \"insult\"]\n",
    "total_sample_count = 300\n",
    "languages =[\"en\",\"de\",\"hi\",\"ja\"]\n",
    "output_dir = \"dataset_for_sahara\"\n",
    "os.makedirs(output_dir,exist_ok=True)\n",
    "for  language in languages:\n",
    "    output_csv = f\"Multilingual_{language}_{total_sample_count}.csv\"\n",
    "    output_path = os.path.join(output_dir,output_csv)\n",
    "    create_balanced_dataset(dataset_dir,language, csv_name_list, total_sample_count,output_path)\n"
   ]
  },
  {
   "cell_type": "code",
   "execution_count": 2,
   "metadata": {},
   "outputs": [
    {
     "name": "stdout",
     "output_type": "stream",
     "text": [
      "File was saved to -> dataset_for_sahara\\Multilingual_en_300.csv\n",
      "File was saved to -> dataset_for_sahara\\Multilingual_de_300.csv\n",
      "File was saved to -> dataset_for_sahara\\Multilingual_hi_300.csv\n",
      "File was saved to -> dataset_for_sahara\\Multilingual_ja_300.csv\n",
      "File was saved to -> dataset_for_sahara\\Multilingual_fr_300.csv\n",
      "File was saved to -> dataset_for_sahara\\Multilingual_ru_300.csv\n",
      "File was saved to -> dataset_for_sahara\\Multilingual_sp_300.csv\n",
      "File was saved to -> dataset_for_sahara\\Multilingual_zh_300.csv\n"
     ]
    }
   ],
   "source": [
    "import pandas as pd\n",
    "import os\n",
    "\n",
    "def create_balanced_dataset(dataset_dir, language, csv_names, total_samples, output_file):\n",
    "    csv_dir = os.path.join(dataset_dir, language)\n",
    "    samples_per_csv = total_samples // len(csv_names)\n",
    "    remainder = total_samples % len(csv_names)\n",
    "\n",
    "    new_dataset = pd.DataFrame(columns=[\"input\"])\n",
    "\n",
    "    for i, csv_name in enumerate(csv_names):\n",
    "        csv_path = os.path.join(csv_dir, f\"{csv_name}.csv\")\n",
    "\n",
    "        # CSVを読み込む\n",
    "        if os.path.exists(csv_path):\n",
    "            data = pd.read_csv(csv_path)\n",
    "        else:\n",
    "            raise FileNotFoundError(f\"404 ??? {csv_path} not found\")\n",
    "\n",
    "        # input列だけを抽出\n",
    "        if \"input\" not in data.columns:\n",
    "            raise ValueError(f\"The column 'input' does not exist in {csv_path}\")\n",
    "\n",
    "        sample_size = samples_per_csv + (1 if i < remainder else 0)\n",
    "        sampled_data = data.sample(n=sample_size, random_state=42)\n",
    "\n",
    "        # 必要な列だけにする\n",
    "        sampled_data = sampled_data[[\"input\"]]\n",
    "        new_dataset = pd.concat([new_dataset, sampled_data], ignore_index=True)\n",
    "\n",
    "    new_dataset.to_csv(output_file, index=False)\n",
    "    print(f\"File was saved to -> {output_file}\")\n",
    "    \n",
    "\n",
    "# メイン処理\n",
    "dataset_dir = \"Multilingual_safety_benchmark\"\n",
    "csv_name_list = [\"Unsafe_Instruction_Topic\", \"Crimes_And_Illegal_Activities\", \"insult\"]\n",
    "total_sample_count = 300\n",
    "languages = [\"en\", \"de\", \"hi\", \"ja\",\"fr\",\"ru\",\"sp\",\"zh\"]\n",
    "output_dir = \"dataset_for_sahara\"\n",
    "os.makedirs(output_dir, exist_ok=True)\n",
    "\n",
    "for language in languages:\n",
    "    output_csv = f\"Multilingual_{language}_{total_sample_count}.csv\"\n",
    "    output_path = os.path.join(output_dir, output_csv)\n",
    "    create_balanced_dataset(dataset_dir, language, csv_name_list, total_sample_count, output_path)\n"
   ]
  },
  {
   "cell_type": "code",
   "execution_count": 2,
   "metadata": {},
   "outputs": [
    {
     "name": "stdout",
     "output_type": "stream",
     "text": [
      "File was saved to -> dataset_for_sahara\\Multilingual_en_600.csv\n",
      "File was saved to -> dataset_for_sahara\\Multilingual_ja_600.csv\n"
     ]
    }
   ],
   "source": [
    "import pandas as pd\n",
    "import os\n",
    "\n",
    "def create_balanced_dataset(dataset_dir, language, csv_names, total_samples, output_file):\n",
    "    csv_dir = os.path.join(dataset_dir, language)\n",
    "    samples_per_csv = total_samples // len(csv_names)\n",
    "    remainder = total_samples % len(csv_names)\n",
    "\n",
    "    new_dataset = pd.DataFrame(columns=[\"input\"])\n",
    "\n",
    "    for i, csv_name in enumerate(csv_names):\n",
    "        csv_path = os.path.join(csv_dir, f\"{csv_name}.csv\")\n",
    "\n",
    "        # CSVを読み込む\n",
    "        if os.path.exists(csv_path):\n",
    "            data = pd.read_csv(csv_path)\n",
    "        else:\n",
    "            raise FileNotFoundError(f\"404 ??? {csv_path} not found\")\n",
    "\n",
    "        # input列だけを抽出\n",
    "        if \"input\" not in data.columns:\n",
    "            raise ValueError(f\"The column 'input' does not exist in {csv_path}\")\n",
    "\n",
    "        sample_size = samples_per_csv + (1 if i < remainder else 0)\n",
    "        sampled_data = data.sample(n=sample_size, random_state=42)\n",
    "\n",
    "        # 必要な列だけにする\n",
    "        sampled_data = sampled_data[[\"input\"]]\n",
    "        new_dataset = pd.concat([new_dataset, sampled_data], ignore_index=True)\n",
    "\n",
    "    new_dataset.to_csv(output_file, index=False)\n",
    "    print(f\"File was saved to -> {output_file}\")\n",
    "    \n",
    "\n",
    "# メイン処理\n",
    "dataset_dir = \"Multilingual_safety_benchmark\"\n",
    "csv_name_list = [\"Unsafe_Instruction_Topic\", \"Crimes_And_Illegal_Activities\", \"insult\"]\n",
    "total_sample_count = 600\n",
    "# languages = [\"en\", \"de\", \"hi\", \"ja\",\"fr\",\"ru\",\"sp\",\"zh\"]\n",
    "languages = [\"en\", \"ja\"]\n",
    "output_dir = \"dataset_for_sahara\"\n",
    "os.makedirs(output_dir, exist_ok=True)\n",
    "\n",
    "for language in languages:\n",
    "    output_csv = f\"Multilingual_{language}_{total_sample_count}.csv\"\n",
    "    output_path = os.path.join(output_dir, output_csv)\n",
    "    create_balanced_dataset(dataset_dir, language, csv_name_list, total_sample_count, output_path)\n"
   ]
  },
  {
   "cell_type": "code",
   "execution_count": null,
   "metadata": {},
   "outputs": [],
   "source": []
  }
 ],
 "metadata": {
  "kernelspec": {
   "display_name": "env",
   "language": "python",
   "name": "python3"
  },
  "language_info": {
   "codemirror_mode": {
    "name": "ipython",
    "version": 3
   },
   "file_extension": ".py",
   "mimetype": "text/x-python",
   "name": "python",
   "nbconvert_exporter": "python",
   "pygments_lexer": "ipython3",
   "version": "3.11.9"
  }
 },
 "nbformat": 4,
 "nbformat_minor": 2
}
